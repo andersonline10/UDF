{
  "nbformat": 4,
  "nbformat_minor": 0,
  "metadata": {
    "colab": {
      "name": "anderson_lista_exerc_01_07abril.ipynb",
      "provenance": [],
      "collapsed_sections": [],
      "include_colab_link": true
    },
    "kernelspec": {
      "name": "python3",
      "display_name": "Python 3"
    },
    "language_info": {
      "name": "python"
    }
  },
  "cells": [
    {
      "cell_type": "markdown",
      "metadata": {
        "id": "view-in-github",
        "colab_type": "text"
      },
      "source": [
        "<a href=\"https://colab.research.google.com/github/andersonline10/UDF/blob/main/1%C2%BA%20Semestre/Programa%C3%A7%C3%A3o%20de%20Computadores/anderson_lista_exerc_01_07abril.ipynb\" target=\"_parent\"><img src=\"https://colab.research.google.com/assets/colab-badge.svg\" alt=\"Open In Colab\"/></a>"
      ]
    },
    {
      "cell_type": "markdown",
      "source": [
        "**Lista de Exercícios N° 01**"
      ],
      "metadata": {
        "id": "SXCjNvlOOwN1"
      }
    },
    {
      "cell_type": "code",
      "source": [
        "# 1. Escreva um programa que apresente na tela a frase: \"Meu primeiro programa!!!\"\n",
        "\n",
        "print(\"Meu primeiro programa!!!\")"
      ],
      "metadata": {
        "colab": {
          "base_uri": "https://localhost:8080/"
        },
        "id": "jmZ-JGEaO8OR",
        "outputId": "989767f1-0718-42c9-daa3-5094b702c5bb"
      },
      "execution_count": null,
      "outputs": [
        {
          "output_type": "stream",
          "name": "stdout",
          "text": [
            "Meu primeiro programa!!!\n"
          ]
        }
      ]
    },
    {
      "cell_type": "code",
      "source": [
        "# 2. Escreva um programa que solicite ao usuário um número inteiro e ao final apresente na tela \n",
        "# o número informado pelo usuário do programa.\n",
        "\n",
        "numero = int(input(\"Digite um numero inteiro: \"))\n",
        "print(\"O número informado foi o \", numero)"
      ],
      "metadata": {
        "colab": {
          "base_uri": "https://localhost:8080/"
        },
        "id": "G5gpETNcPnTA",
        "outputId": "2393942c-c2cd-4b4f-ca57-39d475eec8bd"
      },
      "execution_count": null,
      "outputs": [
        {
          "output_type": "stream",
          "name": "stdout",
          "text": [
            "Digite um numero inteiro: 5\n",
            "O número informado foi o  5\n"
          ]
        }
      ]
    },
    {
      "cell_type": "code",
      "source": [
        "# 3. Escreva um programa que solicite ao usuário um número inteiro e ao final apresente na tela \n",
        "# o número informado da seguinte forma: \"Foi informado o valor: X\"\n",
        "\n",
        "numero = int(input(\"Digite um numero inteiro: \"))\n",
        "print(\"Foi informado o valor:\", numero)"
      ],
      "metadata": {
        "colab": {
          "base_uri": "https://localhost:8080/"
        },
        "id": "q4thM2iWQK78",
        "outputId": "b3f2bb24-8ee3-4092-d04f-cbd530c21c0a"
      },
      "execution_count": null,
      "outputs": [
        {
          "output_type": "stream",
          "name": "stdout",
          "text": [
            "Digite um numero inteiro: 5\n",
            "Foi informado o valor: 5\n"
          ]
        }
      ]
    },
    {
      "cell_type": "code",
      "source": [
        "# 4. Escreva um programa que solicite ao usuário dois números inteiros e ao final apresente na \n",
        "# tela os dois números informados da seguinte forma: \"Voce informou os numeros X e Y\"\n",
        "\n",
        "numero1 = int(input(\"Digite o primeiro numero inteiro: \"))\n",
        "numero2 = int(input(\"Digite o segundo numero inteiro: \"))\n",
        "print(\"Foi informado o valor:\", numero1, \"e\", numero2)"
      ],
      "metadata": {
        "colab": {
          "base_uri": "https://localhost:8080/"
        },
        "id": "dt-eHdCbQhE-",
        "outputId": "a60ed108-954f-4d36-8482-aa1aac795857"
      },
      "execution_count": null,
      "outputs": [
        {
          "output_type": "stream",
          "name": "stdout",
          "text": [
            "Digite o primeiro numero inteiro: 7\n",
            "Digite o segundo numero inteiro: 8\n",
            "Foi informado o valor: 7 e 8\n"
          ]
        }
      ]
    },
    {
      "cell_type": "code",
      "source": [
        "# 5.\tEscreva um programa que solicite ao usuário um número real e ao final apresente na tela \n",
        "# o número informado formatado com duas casas decimais da seguinte forma: \"Voce informou o numero X.YY\"\n",
        "\n",
        "numero_real = float(input(\"Digite um numero real: \"))\n",
        "print(\"Você informou o número %.2f\" %numero_real, end=\".\")"
      ],
      "metadata": {
        "colab": {
          "base_uri": "https://localhost:8080/"
        },
        "id": "vwv114zoSS2b",
        "outputId": "059660e1-9f27-45c4-8b8b-ef2a46f4693a"
      },
      "execution_count": null,
      "outputs": [
        {
          "output_type": "stream",
          "name": "stdout",
          "text": [
            "Digite um numero real: 5.399\n",
            "Você informou o número 5.40."
          ]
        }
      ]
    },
    {
      "cell_type": "code",
      "source": [
        "# 6.\tEscreva um programa que solicite ao usuário a temperatura em graus Celsius e ao final apresente a \n",
        "# temperatura correspondente em graus Farenheit. F = Celsius * 1.8 + 32 \n",
        "\n",
        "temp_celcius = float(input(\"Informe a temperatura em graus Celcius: \"))\n",
        "temp_fahrenheit = (temp_celcius * 1.8) + 32\n",
        "print(\"A temperatura correspondente em graus Farenheit é %.2f\" %temp_fahrenheit, end=\".\")"
      ],
      "metadata": {
        "colab": {
          "base_uri": "https://localhost:8080/"
        },
        "id": "aptEEQDaS1S-",
        "outputId": "94abe14e-a0ca-42b5-97a1-2e426aaf4910"
      },
      "execution_count": null,
      "outputs": [
        {
          "output_type": "stream",
          "name": "stdout",
          "text": [
            "Informe a temperatura em graus Celcius: 30\n",
            "A temperatura correspondente em graus Farenheit é 86.00."
          ]
        }
      ]
    },
    {
      "cell_type": "code",
      "source": [
        "# 7.\tEscreva um programa que solicite ao usuário um número inteiro e um número real e \n",
        "# ao final apresente na tela os dois números informados formatando com duas casas decimais somente \n",
        "# o número real da seguinte forma: \"Voce informou os numeros N e X.YY\" \n",
        "\n",
        "numero_inteiro = int(input(\"Informe um número inteiro: \"))\n",
        "numero_real = float(input(\"Informe um número real: \"))\n",
        "print(\"Você informou os números\", numero_inteiro, \"e %.2f\" %numero_real, end=\".\")"
      ],
      "metadata": {
        "colab": {
          "base_uri": "https://localhost:8080/"
        },
        "id": "CVDQGjWQS84U",
        "outputId": "2c99b3ef-2f8c-43b4-f076-c892974c711e"
      },
      "execution_count": null,
      "outputs": [
        {
          "output_type": "stream",
          "name": "stdout",
          "text": [
            "Informe um número inteiro: 8\n",
            "Informe um número real: 5.38\n",
            "Você informou os números 8 e 5.38."
          ]
        }
      ]
    },
    {
      "cell_type": "code",
      "source": [
        "# 8.\tEscreva um programa que solicite ao usuário a primeira letra de seu nome e ao final \n",
        "# apresente na tela a letra informada pelo usuário da seguinte forma: \"Voce digitou x\" \n",
        "\n",
        "\n",
        "letra = input(\"Digite a primeira letra do seu nome: \")\n",
        "print(\"Você digitou \" + letra, end=\".\")"
      ],
      "metadata": {
        "colab": {
          "base_uri": "https://localhost:8080/"
        },
        "id": "DpG3U8myTATe",
        "outputId": "a66605e7-1809-481c-b6c6-cbfd480550cd"
      },
      "execution_count": null,
      "outputs": [
        {
          "output_type": "stream",
          "name": "stdout",
          "text": [
            "Digite a primeira letra do seu nome: A\n",
            "Você digitou A."
          ]
        }
      ]
    },
    {
      "cell_type": "code",
      "source": [
        "# 9.\tEscreva um programa que solicite ao usuário o nome de sua cor preferida e ao final \n",
        "# apresente na tela a cor informada pelo usuário da seguinte forma: \"Voce gosta da cor AAA\" \n",
        "\n",
        "cor = input(\"Digite uma cor da sua preferencia: \")\n",
        "print(\"Você gosta da cor \" + cor, end=\".\")"
      ],
      "metadata": {
        "colab": {
          "base_uri": "https://localhost:8080/"
        },
        "id": "0Y2srD1STFcN",
        "outputId": "e50d99d4-e15a-4aac-cd48-483ffdd1f455"
      },
      "execution_count": null,
      "outputs": [
        {
          "output_type": "stream",
          "name": "stdout",
          "text": [
            "Digite uma cor da sua preferencia: azul\n",
            "Você gosta da cor azul."
          ]
        }
      ]
    },
    {
      "cell_type": "code",
      "source": [
        "# 10.\tEscreva um programa que solicite ao usuário o nome de uma verdura e uma fruta de sua preferencia \n",
        "# e ao final apresente na tela as informações digitadas pelo usuário da seguinte forma: \n",
        "# \"Voce gosta de AAAAAAA e BBBBBBB\" \n",
        "\n",
        "\n",
        "verdura = input(\"Digite o nome de uma verdura da sua preferencia: \")\n",
        "fruta = input(\"Digite o nome de uma fruta da sua preferencia: \")\n",
        "print(\"Você gosta de \" + verdura + \" e \" + fruta, end=\".\")"
      ],
      "metadata": {
        "colab": {
          "base_uri": "https://localhost:8080/"
        },
        "id": "dHBXSQAWTH1s",
        "outputId": "f561ad9c-2d99-4c12-9f3a-01b2f4e37453"
      },
      "execution_count": null,
      "outputs": [
        {
          "output_type": "stream",
          "name": "stdout",
          "text": [
            "Digite o nome de uma verdura da sua preferencia: quiabo\n",
            "Digite o nome de uma fruta da sua preferencia: banana\n",
            "Você gosta de quiabo e banana."
          ]
        }
      ]
    },
    {
      "cell_type": "code",
      "source": [
        "# 11.\tElabore um algoritmo que solicite ao usuário um número real e ao final imprima na tela o \n",
        "# numero informado e na linha de baixo o dobro deste número da seguinte forma:  \n",
        "#    Numero -> X  \n",
        "#    Dobro deste numero -> Y \n",
        " \n",
        "numero_real = float(input(\"Digite um número real: \"))\n",
        "dobro_real = numero_real * 2\n",
        "print(\"Número -> %.2f\\n\" %numero_real + \"Dobro deste número --> %.2f\" %dobro_real)"
      ],
      "metadata": {
        "colab": {
          "base_uri": "https://localhost:8080/"
        },
        "id": "j-kvaqshTT6L",
        "outputId": "809407ed-dcf2-48c9-c056-1df44214b169"
      },
      "execution_count": null,
      "outputs": [
        {
          "output_type": "stream",
          "name": "stdout",
          "text": [
            "Digite um número real: 4.83\n",
            "Número -> 4.83\n",
            "Dobro deste número --> 9.66\n"
          ]
        }
      ]
    },
    {
      "cell_type": "code",
      "source": [
        "numero_real = float(input(\"Digite um número real: \"))\n",
        "dobro_real = numero_real * 2\n",
        "quadrado_real = numero_real ** 2\n",
        "cubo_real = numero_real ** 3\n",
        "print(\"Número -> %.2f\\n\" %numero_real + \"Dobro deste número --> %.2f\" %dobro_real)\n",
        "print(\"Quadrado deste número -> %.2f\\n\" %quadrado_real + \"Cubo deste número --> %.2f\" %cubo_real)"
      ],
      "metadata": {
        "colab": {
          "base_uri": "https://localhost:8080/"
        },
        "id": "KhqSpZKvTVoC",
        "outputId": "4d788728-4565-4afc-90f6-6369cd8e6ebf"
      },
      "execution_count": null,
      "outputs": [
        {
          "output_type": "stream",
          "name": "stdout",
          "text": [
            "Digite um número real: 2\n",
            "Número -> 2.00\n",
            "Dobro deste número --> 4.00\n",
            "Quadrado deste número -> 4.00\n",
            "Cubo deste número --> 8.00\n"
          ]
        }
      ]
    },
    {
      "cell_type": "code",
      "source": [
        "# 13.\tEscreva um programa que solicite ao usuário dois números inteiros e ao final apresente na tela \n",
        "# a soma dos dois núm\n",
        "numero1 = int(input(\"Digite o primeiro número inteiro: \"))\n",
        "numero2 = int(input(\"Digite o segundo número inteiro: \"))\n",
        "soma = numero1 + numero2\n",
        "\n",
        "print(\"A soma dos números %d e %d é \" % (numero1, numero2) + \"%i\" %soma, end=\".\")\n"
      ],
      "metadata": {
        "id": "GqOreYB5TZIs",
        "colab": {
          "base_uri": "https://localhost:8080/"
        },
        "outputId": "40d68bc5-a66d-448e-ac35-429819c725cd"
      },
      "execution_count": null,
      "outputs": [
        {
          "output_type": "stream",
          "name": "stdout",
          "text": [
            "Digite o primeiro número inteiro: 5\n",
            "Digite o segundo número inteiro: 5\n",
            "A soma dos números 5 e 5 é 10."
          ]
        }
      ]
    },
    {
      "cell_type": "code",
      "source": [
        "# 14.\tEscreva um programa que solicite ao usuário dois números reais e ao final apresente na tela \n",
        "# o produto dos dois números informados da seguinte forma: \"O produto dos numeros N e X corresponde a Y\" \n",
        "\n",
        "numero1 = float(input(\"Informe um número real: \"))\n",
        "numero2 = float(input(\"Informe outro número real: \"))\n",
        "produto = numero1 * numero2\n",
        "\n",
        "print(\"O produto dos números %.2f e %.2f \" % (numero1, numero2) + \"é %.2f\" %produto, end=\".\")"
      ],
      "metadata": {
        "id": "IO2bhEvvTZ73",
        "colab": {
          "base_uri": "https://localhost:8080/"
        },
        "outputId": "f0fbec75-dc78-4795-d156-562236725efa"
      },
      "execution_count": null,
      "outputs": [
        {
          "output_type": "stream",
          "name": "stdout",
          "text": [
            "Informe um número real: 5.48\n",
            "Informe outro número real: 3.18\n",
            "O produto dos números 5.48 e 3.18 é 17.43."
          ]
        }
      ]
    },
    {
      "cell_type": "code",
      "source": [
        "# 15.\tRefazer o programa 14 realizando as quatro operações aritméticas básicas.\n",
        "\n",
        "\n",
        "numero1 = float(input(\"Informe um número real: \"))\n",
        "numero2 = float(input(\"Informe outro número real: \"))\n",
        "soma = numero1 + numero2\n",
        "subtracao = numero1 - numero2\n",
        "produto = numero1 * numero2\n",
        "divisao = numero1 / numero2\n",
        "\n",
        "print(\"\\nA soma dos números %.2f e %.2f \" % (numero1, numero2) + \"é %.2f\" %soma, end=\".\")\n",
        "print(\"\\nA subtração dos números %.2f e %.2f \" % (numero1, numero2) + \"é %.2f\" %subtracao, end=\".\")\n",
        "print(\"\\nO produto dos números %.2f e %.2f \" % (numero1, numero2) + \"é %.2f\" %produto, end=\".\")\n",
        "print(\"\\nA divisão dos números %.2f e %.2f \" % (numero1, numero2) + \"é %.2f\" %divisao, end=\".\")"
      ],
      "metadata": {
        "colab": {
          "base_uri": "https://localhost:8080/"
        },
        "id": "SjZi4P3ETdMD",
        "outputId": "72663f83-cc11-4506-d577-c7214a02fa36"
      },
      "execution_count": null,
      "outputs": [
        {
          "output_type": "stream",
          "name": "stdout",
          "text": [
            "Informe um número real: 5\n",
            "Informe outro número real: 2\n",
            "\n",
            "A soma dos números 5.00 e 2.00 é 7.00.\n",
            "A subtração dos números 5.00 e 2.00 é 3.00.\n",
            "O produto dos números 5.00 e 2.00 é 10.00.\n",
            "A divisão dos números 5.00 e 2.00 é 2.50."
          ]
        }
      ]
    },
    {
      "cell_type": "code",
      "source": [
        "# 16.\tEscreva um programa que solicite o valor fixo do salário de um vendedor, o total vendido.\n",
        "\n",
        "\n",
        "salario_fixo = float(input(\"Digite o salario fixo do vendedor: \"))\n",
        "total_vendido = float(input(\"Digite o total vendido: \"))\n",
        "\n",
        "print(\"O salário fixo do vendedor é de R$ %.2f \" %salario_fixo + \"e o total vendido foi de R$ %.2f\" %total_vendido, end=\".\")\n"
      ],
      "metadata": {
        "colab": {
          "base_uri": "https://localhost:8080/"
        },
        "id": "5prQjYRCTfdJ",
        "outputId": "ad9f2382-034b-424e-c42e-9b280e116e19"
      },
      "execution_count": null,
      "outputs": [
        {
          "output_type": "stream",
          "name": "stdout",
          "text": [
            "Digite o salario fixo do vendedor: 1000\n",
            "Digite o total vendido: 5000\n",
            "O salário fixo do vendedor é de R$ 1000.00 e o total vendido foi de R$ 5000.00."
          ]
        }
      ]
    }
  ]
}